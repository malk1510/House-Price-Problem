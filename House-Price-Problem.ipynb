{
 "cells": [
  {
   "cell_type": "code",
   "execution_count": 1,
   "metadata": {
    "_cell_guid": "b1076dfc-b9ad-4769-8c92-a6c4dae69d19",
    "_uuid": "8f2839f25d086af736a60e9eeb907d3b93b6e0e5",
    "execution": {
     "iopub.execute_input": "2020-12-31T12:46:25.040930Z",
     "iopub.status.busy": "2020-12-31T12:46:25.040306Z",
     "iopub.status.idle": "2020-12-31T12:46:25.048969Z",
     "shell.execute_reply": "2020-12-31T12:46:25.049699Z"
    },
    "papermill": {
     "duration": 0.026828,
     "end_time": "2020-12-31T12:46:25.049915",
     "exception": false,
     "start_time": "2020-12-31T12:46:25.023087",
     "status": "completed"
    },
    "tags": []
   },
   "outputs": [
    {
     "name": "stdout",
     "output_type": "stream",
     "text": [
      "/kaggle/input/house-prices-advanced-regression-techniques/sample_submission.csv\n",
      "/kaggle/input/house-prices-advanced-regression-techniques/data_description.txt\n",
      "/kaggle/input/house-prices-advanced-regression-techniques/train.csv\n",
      "/kaggle/input/house-prices-advanced-regression-techniques/test.csv\n"
     ]
    }
   ],
   "source": [
    "# This Python 3 environment comes with many helpful analytics libraries installed\n",
    "# It is defined by the kaggle/python Docker image: https://github.com/kaggle/docker-python\n",
    "# For example, here's several helpful packages to load\n",
    "\n",
    "import numpy as np # linear algebra\n",
    "import pandas as pd # data processing, CSV file I/O (e.g. pd.read_csv)\n",
    "\n",
    "# Input data files are available in the read-only \"../input/\" directory\n",
    "# For example, running this (by clicking run or pressing Shift+Enter) will list all files under the input directory\n",
    "\n",
    "import os\n",
    "for dirname, _, filenames in os.walk('/kaggle/input'):\n",
    "    for filename in filenames:\n",
    "        print(os.path.join(dirname, filename))\n",
    "\n",
    "# You can write up to 20GB to the current directory (/kaggle/working/) that gets preserved as output when you create a version using \"Save & Run All\" \n",
    "# You can also write temporary files to /kaggle/temp/, but they won't be saved outside of the current session"
   ]
  },
  {
   "cell_type": "code",
   "execution_count": 2,
   "metadata": {
    "_cell_guid": "79c7e3d0-c299-4dcb-8224-4455121ee9b0",
    "_uuid": "d629ff2d2480ee46fbb7e2d37f6b5fab8052498a",
    "execution": {
     "iopub.execute_input": "2020-12-31T12:46:25.082220Z",
     "iopub.status.busy": "2020-12-31T12:46:25.081558Z",
     "iopub.status.idle": "2020-12-31T12:46:25.171782Z",
     "shell.execute_reply": "2020-12-31T12:46:25.171250Z"
    },
    "papermill": {
     "duration": 0.109002,
     "end_time": "2020-12-31T12:46:25.171896",
     "exception": false,
     "start_time": "2020-12-31T12:46:25.062894",
     "status": "completed"
    },
    "tags": []
   },
   "outputs": [],
   "source": [
    "training_set = pd.read_csv('../input/house-prices-advanced-regression-techniques/train.csv')\n",
    "test_set = pd.read_csv('../input/house-prices-advanced-regression-techniques/test.csv')\n",
    "ids = test_set['Id']\n",
    "training_set = training_set.drop(['Id'],axis=1)\n",
    "test_set = test_set.drop(['Id'],axis=1)"
   ]
  },
  {
   "cell_type": "code",
   "execution_count": 3,
   "metadata": {
    "execution": {
     "iopub.execute_input": "2020-12-31T12:46:25.200120Z",
     "iopub.status.busy": "2020-12-31T12:46:25.199521Z",
     "iopub.status.idle": "2020-12-31T12:46:26.078142Z",
     "shell.execute_reply": "2020-12-31T12:46:26.078771Z"
    },
    "papermill": {
     "duration": 0.895111,
     "end_time": "2020-12-31T12:46:26.078911",
     "exception": false,
     "start_time": "2020-12-31T12:46:25.183800",
     "status": "completed"
    },
    "tags": []
   },
   "outputs": [],
   "source": [
    "from sklearn.preprocessing import LabelEncoder, StandardScaler"
   ]
  },
  {
   "cell_type": "code",
   "execution_count": 4,
   "metadata": {
    "execution": {
     "iopub.execute_input": "2020-12-31T12:46:26.106544Z",
     "iopub.status.busy": "2020-12-31T12:46:26.105936Z",
     "iopub.status.idle": "2020-12-31T12:46:26.135602Z",
     "shell.execute_reply": "2020-12-31T12:46:26.136127Z"
    },
    "papermill": {
     "duration": 0.044934,
     "end_time": "2020-12-31T12:46:26.136286",
     "exception": false,
     "start_time": "2020-12-31T12:46:26.091352",
     "status": "completed"
    },
    "tags": []
   },
   "outputs": [
    {
     "name": "stdout",
     "output_type": "stream",
     "text": [
      "<class 'pandas.core.frame.DataFrame'>\n",
      "RangeIndex: 1460 entries, 0 to 1459\n",
      "Data columns (total 80 columns):\n",
      " #   Column         Non-Null Count  Dtype  \n",
      "---  ------         --------------  -----  \n",
      " 0   MSSubClass     1460 non-null   int64  \n",
      " 1   MSZoning       1460 non-null   object \n",
      " 2   LotFrontage    1201 non-null   float64\n",
      " 3   LotArea        1460 non-null   int64  \n",
      " 4   Street         1460 non-null   object \n",
      " 5   Alley          91 non-null     object \n",
      " 6   LotShape       1460 non-null   object \n",
      " 7   LandContour    1460 non-null   object \n",
      " 8   Utilities      1460 non-null   object \n",
      " 9   LotConfig      1460 non-null   object \n",
      " 10  LandSlope      1460 non-null   object \n",
      " 11  Neighborhood   1460 non-null   object \n",
      " 12  Condition1     1460 non-null   object \n",
      " 13  Condition2     1460 non-null   object \n",
      " 14  BldgType       1460 non-null   object \n",
      " 15  HouseStyle     1460 non-null   object \n",
      " 16  OverallQual    1460 non-null   int64  \n",
      " 17  OverallCond    1460 non-null   int64  \n",
      " 18  YearBuilt      1460 non-null   int64  \n",
      " 19  YearRemodAdd   1460 non-null   int64  \n",
      " 20  RoofStyle      1460 non-null   object \n",
      " 21  RoofMatl       1460 non-null   object \n",
      " 22  Exterior1st    1460 non-null   object \n",
      " 23  Exterior2nd    1460 non-null   object \n",
      " 24  MasVnrType     1452 non-null   object \n",
      " 25  MasVnrArea     1452 non-null   float64\n",
      " 26  ExterQual      1460 non-null   object \n",
      " 27  ExterCond      1460 non-null   object \n",
      " 28  Foundation     1460 non-null   object \n",
      " 29  BsmtQual       1423 non-null   object \n",
      " 30  BsmtCond       1423 non-null   object \n",
      " 31  BsmtExposure   1422 non-null   object \n",
      " 32  BsmtFinType1   1423 non-null   object \n",
      " 33  BsmtFinSF1     1460 non-null   int64  \n",
      " 34  BsmtFinType2   1422 non-null   object \n",
      " 35  BsmtFinSF2     1460 non-null   int64  \n",
      " 36  BsmtUnfSF      1460 non-null   int64  \n",
      " 37  TotalBsmtSF    1460 non-null   int64  \n",
      " 38  Heating        1460 non-null   object \n",
      " 39  HeatingQC      1460 non-null   object \n",
      " 40  CentralAir     1460 non-null   object \n",
      " 41  Electrical     1459 non-null   object \n",
      " 42  1stFlrSF       1460 non-null   int64  \n",
      " 43  2ndFlrSF       1460 non-null   int64  \n",
      " 44  LowQualFinSF   1460 non-null   int64  \n",
      " 45  GrLivArea      1460 non-null   int64  \n",
      " 46  BsmtFullBath   1460 non-null   int64  \n",
      " 47  BsmtHalfBath   1460 non-null   int64  \n",
      " 48  FullBath       1460 non-null   int64  \n",
      " 49  HalfBath       1460 non-null   int64  \n",
      " 50  BedroomAbvGr   1460 non-null   int64  \n",
      " 51  KitchenAbvGr   1460 non-null   int64  \n",
      " 52  KitchenQual    1460 non-null   object \n",
      " 53  TotRmsAbvGrd   1460 non-null   int64  \n",
      " 54  Functional     1460 non-null   object \n",
      " 55  Fireplaces     1460 non-null   int64  \n",
      " 56  FireplaceQu    770 non-null    object \n",
      " 57  GarageType     1379 non-null   object \n",
      " 58  GarageYrBlt    1379 non-null   float64\n",
      " 59  GarageFinish   1379 non-null   object \n",
      " 60  GarageCars     1460 non-null   int64  \n",
      " 61  GarageArea     1460 non-null   int64  \n",
      " 62  GarageQual     1379 non-null   object \n",
      " 63  GarageCond     1379 non-null   object \n",
      " 64  PavedDrive     1460 non-null   object \n",
      " 65  WoodDeckSF     1460 non-null   int64  \n",
      " 66  OpenPorchSF    1460 non-null   int64  \n",
      " 67  EnclosedPorch  1460 non-null   int64  \n",
      " 68  3SsnPorch      1460 non-null   int64  \n",
      " 69  ScreenPorch    1460 non-null   int64  \n",
      " 70  PoolArea       1460 non-null   int64  \n",
      " 71  PoolQC         7 non-null      object \n",
      " 72  Fence          281 non-null    object \n",
      " 73  MiscFeature    54 non-null     object \n",
      " 74  MiscVal        1460 non-null   int64  \n",
      " 75  MoSold         1460 non-null   int64  \n",
      " 76  YrSold         1460 non-null   int64  \n",
      " 77  SaleType       1460 non-null   object \n",
      " 78  SaleCondition  1460 non-null   object \n",
      " 79  SalePrice      1460 non-null   int64  \n",
      "dtypes: float64(3), int64(34), object(43)\n",
      "memory usage: 912.6+ KB\n"
     ]
    }
   ],
   "source": [
    "training_set.info()"
   ]
  },
  {
   "cell_type": "code",
   "execution_count": 5,
   "metadata": {
    "execution": {
     "iopub.execute_input": "2020-12-31T12:46:26.164866Z",
     "iopub.status.busy": "2020-12-31T12:46:26.164259Z",
     "iopub.status.idle": "2020-12-31T12:46:26.306915Z",
     "shell.execute_reply": "2020-12-31T12:46:26.306326Z"
    },
    "papermill": {
     "duration": 0.157969,
     "end_time": "2020-12-31T12:46:26.307024",
     "exception": false,
     "start_time": "2020-12-31T12:46:26.149055",
     "status": "completed"
    },
    "tags": []
   },
   "outputs": [],
   "source": [
    "for i in test_set.columns:\n",
    "    if training_set[i].count()<1460:\n",
    "        if training_set[i].dtype == 'int64' or training_set[i].dtype == 'float64':\n",
    "            training_set[i] = training_set[i].fillna(0)\n",
    "        else:\n",
    "            training_set[i] = training_set[i].fillna('nan')\n",
    "    if training_set[i].dtype == 'object':\n",
    "        training_set[i] = LabelEncoder().fit_transform(training_set[i])\n",
    "for i in test_set.columns:\n",
    "    if test_set[i].count()<1459:\n",
    "        if test_set[i].dtype == 'int64' or test_set[i].dtype == 'float64':\n",
    "            test_set[i] = test_set[i].fillna(0)\n",
    "        else:\n",
    "            test_set[i] = test_set[i].fillna('nan')\n",
    "    if test_set[i].dtype == 'object':\n",
    "        test_set[i] = LabelEncoder().fit_transform(test_set[i])"
   ]
  },
  {
   "cell_type": "code",
   "execution_count": 6,
   "metadata": {
    "execution": {
     "iopub.execute_input": "2020-12-31T12:46:26.338930Z",
     "iopub.status.busy": "2020-12-31T12:46:26.338333Z",
     "iopub.status.idle": "2020-12-31T12:46:26.361529Z",
     "shell.execute_reply": "2020-12-31T12:46:26.362233Z"
    },
    "papermill": {
     "duration": 0.042443,
     "end_time": "2020-12-31T12:46:26.362410",
     "exception": false,
     "start_time": "2020-12-31T12:46:26.319967",
     "status": "completed"
    },
    "tags": []
   },
   "outputs": [
    {
     "name": "stdout",
     "output_type": "stream",
     "text": [
      "<class 'pandas.core.frame.DataFrame'>\n",
      "RangeIndex: 1459 entries, 0 to 1458\n",
      "Data columns (total 79 columns):\n",
      " #   Column         Non-Null Count  Dtype  \n",
      "---  ------         --------------  -----  \n",
      " 0   MSSubClass     1459 non-null   int64  \n",
      " 1   MSZoning       1459 non-null   int64  \n",
      " 2   LotFrontage    1459 non-null   float64\n",
      " 3   LotArea        1459 non-null   int64  \n",
      " 4   Street         1459 non-null   int64  \n",
      " 5   Alley          1459 non-null   int64  \n",
      " 6   LotShape       1459 non-null   int64  \n",
      " 7   LandContour    1459 non-null   int64  \n",
      " 8   Utilities      1459 non-null   int64  \n",
      " 9   LotConfig      1459 non-null   int64  \n",
      " 10  LandSlope      1459 non-null   int64  \n",
      " 11  Neighborhood   1459 non-null   int64  \n",
      " 12  Condition1     1459 non-null   int64  \n",
      " 13  Condition2     1459 non-null   int64  \n",
      " 14  BldgType       1459 non-null   int64  \n",
      " 15  HouseStyle     1459 non-null   int64  \n",
      " 16  OverallQual    1459 non-null   int64  \n",
      " 17  OverallCond    1459 non-null   int64  \n",
      " 18  YearBuilt      1459 non-null   int64  \n",
      " 19  YearRemodAdd   1459 non-null   int64  \n",
      " 20  RoofStyle      1459 non-null   int64  \n",
      " 21  RoofMatl       1459 non-null   int64  \n",
      " 22  Exterior1st    1459 non-null   int64  \n",
      " 23  Exterior2nd    1459 non-null   int64  \n",
      " 24  MasVnrType     1459 non-null   int64  \n",
      " 25  MasVnrArea     1459 non-null   float64\n",
      " 26  ExterQual      1459 non-null   int64  \n",
      " 27  ExterCond      1459 non-null   int64  \n",
      " 28  Foundation     1459 non-null   int64  \n",
      " 29  BsmtQual       1459 non-null   int64  \n",
      " 30  BsmtCond       1459 non-null   int64  \n",
      " 31  BsmtExposure   1459 non-null   int64  \n",
      " 32  BsmtFinType1   1459 non-null   int64  \n",
      " 33  BsmtFinSF1     1459 non-null   float64\n",
      " 34  BsmtFinType2   1459 non-null   int64  \n",
      " 35  BsmtFinSF2     1459 non-null   float64\n",
      " 36  BsmtUnfSF      1459 non-null   float64\n",
      " 37  TotalBsmtSF    1459 non-null   float64\n",
      " 38  Heating        1459 non-null   int64  \n",
      " 39  HeatingQC      1459 non-null   int64  \n",
      " 40  CentralAir     1459 non-null   int64  \n",
      " 41  Electrical     1459 non-null   int64  \n",
      " 42  1stFlrSF       1459 non-null   int64  \n",
      " 43  2ndFlrSF       1459 non-null   int64  \n",
      " 44  LowQualFinSF   1459 non-null   int64  \n",
      " 45  GrLivArea      1459 non-null   int64  \n",
      " 46  BsmtFullBath   1459 non-null   float64\n",
      " 47  BsmtHalfBath   1459 non-null   float64\n",
      " 48  FullBath       1459 non-null   int64  \n",
      " 49  HalfBath       1459 non-null   int64  \n",
      " 50  BedroomAbvGr   1459 non-null   int64  \n",
      " 51  KitchenAbvGr   1459 non-null   int64  \n",
      " 52  KitchenQual    1459 non-null   int64  \n",
      " 53  TotRmsAbvGrd   1459 non-null   int64  \n",
      " 54  Functional     1459 non-null   int64  \n",
      " 55  Fireplaces     1459 non-null   int64  \n",
      " 56  FireplaceQu    1459 non-null   int64  \n",
      " 57  GarageType     1459 non-null   int64  \n",
      " 58  GarageYrBlt    1459 non-null   float64\n",
      " 59  GarageFinish   1459 non-null   int64  \n",
      " 60  GarageCars     1459 non-null   float64\n",
      " 61  GarageArea     1459 non-null   float64\n",
      " 62  GarageQual     1459 non-null   int64  \n",
      " 63  GarageCond     1459 non-null   int64  \n",
      " 64  PavedDrive     1459 non-null   int64  \n",
      " 65  WoodDeckSF     1459 non-null   int64  \n",
      " 66  OpenPorchSF    1459 non-null   int64  \n",
      " 67  EnclosedPorch  1459 non-null   int64  \n",
      " 68  3SsnPorch      1459 non-null   int64  \n",
      " 69  ScreenPorch    1459 non-null   int64  \n",
      " 70  PoolArea       1459 non-null   int64  \n",
      " 71  PoolQC         1459 non-null   int64  \n",
      " 72  Fence          1459 non-null   int64  \n",
      " 73  MiscFeature    1459 non-null   int64  \n",
      " 74  MiscVal        1459 non-null   int64  \n",
      " 75  MoSold         1459 non-null   int64  \n",
      " 76  YrSold         1459 non-null   int64  \n",
      " 77  SaleType       1459 non-null   int64  \n",
      " 78  SaleCondition  1459 non-null   int64  \n",
      "dtypes: float64(11), int64(68)\n",
      "memory usage: 900.6 KB\n"
     ]
    }
   ],
   "source": [
    "test_set.info()"
   ]
  },
  {
   "cell_type": "code",
   "execution_count": 7,
   "metadata": {
    "execution": {
     "iopub.execute_input": "2020-12-31T12:46:26.408402Z",
     "iopub.status.busy": "2020-12-31T12:46:26.407726Z",
     "iopub.status.idle": "2020-12-31T12:46:26.410424Z",
     "shell.execute_reply": "2020-12-31T12:46:26.411039Z"
    },
    "papermill": {
     "duration": 0.029379,
     "end_time": "2020-12-31T12:46:26.411187",
     "exception": false,
     "start_time": "2020-12-31T12:46:26.381808",
     "status": "completed"
    },
    "tags": []
   },
   "outputs": [],
   "source": [
    "training_x = training_set.loc[:,:'SaleCondition']\n",
    "training_y = training_set['SalePrice']\n",
    "test_x = test_set"
   ]
  },
  {
   "cell_type": "code",
   "execution_count": 8,
   "metadata": {
    "execution": {
     "iopub.execute_input": "2020-12-31T12:46:26.443657Z",
     "iopub.status.busy": "2020-12-31T12:46:26.442899Z",
     "iopub.status.idle": "2020-12-31T12:46:26.466399Z",
     "shell.execute_reply": "2020-12-31T12:46:26.466906Z"
    },
    "papermill": {
     "duration": 0.042272,
     "end_time": "2020-12-31T12:46:26.467065",
     "exception": false,
     "start_time": "2020-12-31T12:46:26.424793",
     "status": "completed"
    },
    "tags": []
   },
   "outputs": [],
   "source": [
    "training_x = StandardScaler().fit_transform(training_x)\n",
    "test_x = StandardScaler().fit_transform(test_x)"
   ]
  },
  {
   "cell_type": "code",
   "execution_count": 9,
   "metadata": {
    "execution": {
     "iopub.execute_input": "2020-12-31T12:46:26.497237Z",
     "iopub.status.busy": "2020-12-31T12:46:26.496566Z",
     "iopub.status.idle": "2020-12-31T12:46:26.742924Z",
     "shell.execute_reply": "2020-12-31T12:46:26.743484Z"
    },
    "papermill": {
     "duration": 0.262905,
     "end_time": "2020-12-31T12:46:26.743633",
     "exception": false,
     "start_time": "2020-12-31T12:46:26.480728",
     "status": "completed"
    },
    "tags": []
   },
   "outputs": [],
   "source": [
    "from sklearn.linear_model import LinearRegression\n",
    "from sklearn.svm import SVR\n",
    "from sklearn.linear_model import SGDClassifier\n",
    "from sklearn.ensemble import RandomForestRegressor"
   ]
  },
  {
   "cell_type": "code",
   "execution_count": 10,
   "metadata": {
    "execution": {
     "iopub.execute_input": "2020-12-31T12:46:26.774504Z",
     "iopub.status.busy": "2020-12-31T12:46:26.773784Z",
     "iopub.status.idle": "2020-12-31T12:46:26.778620Z",
     "shell.execute_reply": "2020-12-31T12:46:26.779147Z"
    },
    "papermill": {
     "duration": 0.021773,
     "end_time": "2020-12-31T12:46:26.779319",
     "exception": false,
     "start_time": "2020-12-31T12:46:26.757546",
     "status": "completed"
    },
    "tags": []
   },
   "outputs": [],
   "source": [
    "m1 = LinearRegression()\n",
    "m2 = SVR()\n",
    "m3 = SGDClassifier(loss='squared_loss')\n",
    "m4 = RandomForestRegressor(max_depth=10)"
   ]
  },
  {
   "cell_type": "code",
   "execution_count": 11,
   "metadata": {
    "execution": {
     "iopub.execute_input": "2020-12-31T12:46:26.816550Z",
     "iopub.status.busy": "2020-12-31T12:46:26.815599Z",
     "iopub.status.idle": "2020-12-31T12:46:26.938313Z",
     "shell.execute_reply": "2020-12-31T12:46:26.939034Z"
    },
    "papermill": {
     "duration": 0.146111,
     "end_time": "2020-12-31T12:46:26.939258",
     "exception": false,
     "start_time": "2020-12-31T12:46:26.793147",
     "status": "completed"
    },
    "tags": []
   },
   "outputs": [
    {
     "data": {
      "text/plain": [
       "0.8546220896266405"
      ]
     },
     "execution_count": 11,
     "metadata": {},
     "output_type": "execute_result"
    }
   ],
   "source": [
    "m1.fit(training_x,training_y)\n",
    "m1.score(training_x,training_y)"
   ]
  },
  {
   "cell_type": "code",
   "execution_count": 12,
   "metadata": {
    "execution": {
     "iopub.execute_input": "2020-12-31T12:46:26.976795Z",
     "iopub.status.busy": "2020-12-31T12:46:26.975857Z",
     "iopub.status.idle": "2020-12-31T12:46:27.663925Z",
     "shell.execute_reply": "2020-12-31T12:46:27.664443Z"
    },
    "papermill": {
     "duration": 0.705929,
     "end_time": "2020-12-31T12:46:27.664594",
     "exception": false,
     "start_time": "2020-12-31T12:46:26.958665",
     "status": "completed"
    },
    "tags": []
   },
   "outputs": [
    {
     "data": {
      "text/plain": [
       "-0.04982096722890872"
      ]
     },
     "execution_count": 12,
     "metadata": {},
     "output_type": "execute_result"
    }
   ],
   "source": [
    "m2.fit(training_x,training_y)\n",
    "m2.score(training_x,training_y)"
   ]
  },
  {
   "cell_type": "code",
   "execution_count": 13,
   "metadata": {
    "execution": {
     "iopub.execute_input": "2020-12-31T12:46:27.700510Z",
     "iopub.status.busy": "2020-12-31T12:46:27.699837Z",
     "iopub.status.idle": "2020-12-31T12:46:55.387204Z",
     "shell.execute_reply": "2020-12-31T12:46:55.386379Z"
    },
    "papermill": {
     "duration": 27.707751,
     "end_time": "2020-12-31T12:46:55.387343",
     "exception": false,
     "start_time": "2020-12-31T12:46:27.679592",
     "status": "completed"
    },
    "tags": []
   },
   "outputs": [
    {
     "data": {
      "text/plain": [
       "0.0013698630136986301"
      ]
     },
     "execution_count": 13,
     "metadata": {},
     "output_type": "execute_result"
    }
   ],
   "source": [
    "m3.fit(training_x,training_y)\n",
    "m3.score(training_x,training_y)"
   ]
  },
  {
   "cell_type": "code",
   "execution_count": 14,
   "metadata": {
    "execution": {
     "iopub.execute_input": "2020-12-31T12:46:55.427049Z",
     "iopub.status.busy": "2020-12-31T12:46:55.426030Z",
     "iopub.status.idle": "2020-12-31T12:46:57.305988Z",
     "shell.execute_reply": "2020-12-31T12:46:57.306508Z"
    },
    "papermill": {
     "duration": 1.900433,
     "end_time": "2020-12-31T12:46:57.306644",
     "exception": false,
     "start_time": "2020-12-31T12:46:55.406211",
     "status": "completed"
    },
    "tags": []
   },
   "outputs": [
    {
     "data": {
      "text/plain": [
       "0.9762610671776006"
      ]
     },
     "execution_count": 14,
     "metadata": {},
     "output_type": "execute_result"
    }
   ],
   "source": [
    "m4.fit(training_x,training_y)\n",
    "m4.score(training_x,training_y)"
   ]
  },
  {
   "cell_type": "code",
   "execution_count": 15,
   "metadata": {
    "execution": {
     "iopub.execute_input": "2020-12-31T12:46:57.343660Z",
     "iopub.status.busy": "2020-12-31T12:46:57.343011Z",
     "iopub.status.idle": "2020-12-31T12:46:57.370526Z",
     "shell.execute_reply": "2020-12-31T12:46:57.371004Z"
    },
    "papermill": {
     "duration": 0.048419,
     "end_time": "2020-12-31T12:46:57.371160",
     "exception": false,
     "start_time": "2020-12-31T12:46:57.322741",
     "status": "completed"
    },
    "tags": []
   },
   "outputs": [],
   "source": [
    "prices = m4.predict(test_x)"
   ]
  },
  {
   "cell_type": "code",
   "execution_count": 16,
   "metadata": {
    "execution": {
     "iopub.execute_input": "2020-12-31T12:46:57.413811Z",
     "iopub.status.busy": "2020-12-31T12:46:57.413190Z",
     "iopub.status.idle": "2020-12-31T12:46:57.421385Z",
     "shell.execute_reply": "2020-12-31T12:46:57.420755Z"
    },
    "papermill": {
     "duration": 0.034309,
     "end_time": "2020-12-31T12:46:57.421512",
     "exception": false,
     "start_time": "2020-12-31T12:46:57.387203",
     "status": "completed"
    },
    "tags": []
   },
   "outputs": [
    {
     "data": {
      "text/html": [
       "<div>\n",
       "<style scoped>\n",
       "    .dataframe tbody tr th:only-of-type {\n",
       "        vertical-align: middle;\n",
       "    }\n",
       "\n",
       "    .dataframe tbody tr th {\n",
       "        vertical-align: top;\n",
       "    }\n",
       "\n",
       "    .dataframe thead th {\n",
       "        text-align: right;\n",
       "    }\n",
       "</style>\n",
       "<table border=\"1\" class=\"dataframe\">\n",
       "  <thead>\n",
       "    <tr style=\"text-align: right;\">\n",
       "      <th></th>\n",
       "      <th>Id</th>\n",
       "      <th>SalePrice</th>\n",
       "    </tr>\n",
       "  </thead>\n",
       "  <tbody>\n",
       "    <tr>\n",
       "      <th>0</th>\n",
       "      <td>1461</td>\n",
       "      <td>124575.796536</td>\n",
       "    </tr>\n",
       "    <tr>\n",
       "      <th>1</th>\n",
       "      <td>1462</td>\n",
       "      <td>155468.192630</td>\n",
       "    </tr>\n",
       "    <tr>\n",
       "      <th>2</th>\n",
       "      <td>1463</td>\n",
       "      <td>182709.252652</td>\n",
       "    </tr>\n",
       "    <tr>\n",
       "      <th>3</th>\n",
       "      <td>1464</td>\n",
       "      <td>179307.266031</td>\n",
       "    </tr>\n",
       "    <tr>\n",
       "      <th>4</th>\n",
       "      <td>1465</td>\n",
       "      <td>202576.433991</td>\n",
       "    </tr>\n",
       "    <tr>\n",
       "      <th>...</th>\n",
       "      <td>...</td>\n",
       "      <td>...</td>\n",
       "    </tr>\n",
       "    <tr>\n",
       "      <th>1454</th>\n",
       "      <td>2915</td>\n",
       "      <td>84700.699470</td>\n",
       "    </tr>\n",
       "    <tr>\n",
       "      <th>1455</th>\n",
       "      <td>2916</td>\n",
       "      <td>88976.110319</td>\n",
       "    </tr>\n",
       "    <tr>\n",
       "      <th>1456</th>\n",
       "      <td>2917</td>\n",
       "      <td>153143.813988</td>\n",
       "    </tr>\n",
       "    <tr>\n",
       "      <th>1457</th>\n",
       "      <td>2918</td>\n",
       "      <td>116024.440200</td>\n",
       "    </tr>\n",
       "    <tr>\n",
       "      <th>1458</th>\n",
       "      <td>2919</td>\n",
       "      <td>234773.473292</td>\n",
       "    </tr>\n",
       "  </tbody>\n",
       "</table>\n",
       "<p>1459 rows × 2 columns</p>\n",
       "</div>"
      ],
      "text/plain": [
       "        Id      SalePrice\n",
       "0     1461  124575.796536\n",
       "1     1462  155468.192630\n",
       "2     1463  182709.252652\n",
       "3     1464  179307.266031\n",
       "4     1465  202576.433991\n",
       "...    ...            ...\n",
       "1454  2915   84700.699470\n",
       "1455  2916   88976.110319\n",
       "1456  2917  153143.813988\n",
       "1457  2918  116024.440200\n",
       "1458  2919  234773.473292\n",
       "\n",
       "[1459 rows x 2 columns]"
      ]
     },
     "execution_count": 16,
     "metadata": {},
     "output_type": "execute_result"
    }
   ],
   "source": [
    "df = pd.DataFrame({'Id':ids,'SalePrice':prices})\n",
    "df"
   ]
  },
  {
   "cell_type": "code",
   "execution_count": 17,
   "metadata": {
    "execution": {
     "iopub.execute_input": "2020-12-31T12:46:57.458313Z",
     "iopub.status.busy": "2020-12-31T12:46:57.457685Z",
     "iopub.status.idle": "2020-12-31T12:46:57.826743Z",
     "shell.execute_reply": "2020-12-31T12:46:57.826208Z"
    },
    "papermill": {
     "duration": 0.388487,
     "end_time": "2020-12-31T12:46:57.826859",
     "exception": false,
     "start_time": "2020-12-31T12:46:57.438372",
     "status": "completed"
    },
    "tags": []
   },
   "outputs": [],
   "source": [
    "file = 'predictions.csv'\n",
    "df.to_csv(file,index=False)"
   ]
  }
 ],
 "metadata": {
  "kernelspec": {
   "display_name": "Python 3",
   "language": "python",
   "name": "python3"
  },
  "language_info": {
   "codemirror_mode": {
    "name": "ipython",
    "version": 3
   },
   "file_extension": ".py",
   "mimetype": "text/x-python",
   "name": "python",
   "nbconvert_exporter": "python",
   "pygments_lexer": "ipython3",
   "version": "3.7.6"
  },
  "papermill": {
   "duration": 37.397902,
   "end_time": "2020-12-31T12:46:57.954401",
   "environment_variables": {},
   "exception": null,
   "input_path": "__notebook__.ipynb",
   "output_path": "__notebook__.ipynb",
   "parameters": {},
   "start_time": "2020-12-31T12:46:20.556499",
   "version": "2.1.0"
  }
 },
 "nbformat": 4,
 "nbformat_minor": 4
}
